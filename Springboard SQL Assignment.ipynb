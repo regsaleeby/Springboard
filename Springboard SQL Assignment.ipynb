{
 "cells": [
  {
   "cell_type": "markdown",
   "metadata": {},
   "source": [
    "/* Q1: Some of the facilities charge a fee to members, but some do not.\n",
    "Write a SQL query to produce a list of the names of the facilities that do. */\n",
    "\n",
    "            SELECT *\n",
    "            FROM `Facilities`\n",
    "            WHERE `membercost` !=0"
   ]
  },
  {
   "cell_type": "markdown",
   "metadata": {},
   "source": [
    "/* Q2: How many facilities do not charge a fee to members? */\n",
    "\n",
    "            SELECT COUNT( * )\n",
    "            FROM Facilities\n",
    "            WHERE membercost =0"
   ]
  },
  {
   "cell_type": "markdown",
   "metadata": {},
   "source": [
    "/* Q3: Write an SQL query to show a list of facilities that charge a fee to members,\n",
    "where the fee is less than 20% of the facility's monthly maintenance cost.\n",
    "Return the facid, facility name, member cost, and monthly maintenance of the\n",
    "facilities in question. */\n",
    "\n",
    "            SELECT *\n",
    "            FROM `Facilities`\n",
    "            WHERE membercost < ( .2 * monthlymaintenance )"
   ]
  },
  {
   "cell_type": "markdown",
   "metadata": {},
   "source": [
    "/* Q4: Write an SQL query to retrieve the details of facilities with ID 1 and 5.\n",
    "Try writing the query without using the OR operator. */\n",
    "\n",
    "            SELECT *\n",
    "            FROM `Facilities`\n",
    "            WHERE facid\n",
    "            IN ( 1, 5 )"
   ]
  },
  {
   "cell_type": "markdown",
   "metadata": {},
   "source": [
    "/* Q5: Produce a list of facilities, with each labelled as\n",
    "'cheap' or 'expensive', depending on if their monthly maintenance cost is\n",
    "more than $100. Return the name and monthly maintenance of the facilities\n",
    "in question. */\n",
    "\n",
    "            SELECT name, monthlymaintenance,\n",
    "            CASE\n",
    "            WHEN monthlymaintenance >100\n",
    "            THEN 'expensive'\n",
    "            ELSE 'cheap'\n",
    "            END AS price\n",
    "            FROM `Facilities`"
   ]
  },
  {
   "cell_type": "markdown",
   "metadata": {},
   "source": [
    "/* Q6: You'd like to get the first and last name of the last member(s)\n",
    "who signed up. Try not to use the LIMIT clause for your solution. */\n",
    "\n",
    "\n",
    "            SELECT `firstname` , `surname` , MAX( `joindate` )\n",
    "            FROM `Members`"
   ]
  },
  {
   "cell_type": "markdown",
   "metadata": {},
   "source": [
    "/* Q7: Produce a list of all members who have used a tennis court.\n",
    "Include in your output the name of the court, and the name of the member\n",
    "formatted as a single column. Ensure no duplicate data, and order by\n",
    "the member name. */\n",
    "\n",
    "            SELECT DISTINCT concat(m.firstname,' ', m.surname) as member, f.name as facility\n",
    "            FROM Members AS m\n",
    "            INNER JOIN Bookings AS b\n",
    "            USING ( memid )\n",
    "            INNER JOIN Facilities AS f ON b.facid = f.facid\n",
    "            WHERE f.name LIKE '%tennis court%'\n",
    "            ORDER BY member;\n"
   ]
  },
  {
   "cell_type": "markdown",
   "metadata": {},
   "source": [
    "/* Q8: Produce a list of bookings on the day of 2012-09-14 which\n",
    "will cost the member (or guest) more than $30. Remember that guests have\n",
    "different costs to members (the listed costs are per half-hour 'slot'), and\n",
    "the guest user's ID is always 0. Include in your output the name of the\n",
    "facility, the name of the member formatted as a single column, and the cost.\n",
    "Order by descending cost, and do not use any subqueries. */\n",
    "\n",
    "\n",
    "            SELECT CONCAT( m.firstname, ' ', m.surname ) AS member, f.name AS facility,\n",
    "            CASE\n",
    "            WHEN m.memid =0\n",
    "            THEN b.slots * f.guestcost\n",
    "            ELSE b.slots * f.membercost\n",
    "            END AS cost\n",
    "            FROM Members AS m\n",
    "            INNER JOIN Bookings AS b ON m.memid = b.memid\n",
    "            INNER JOIN Facilities AS f ON b.facid = f.facid\n",
    "            WHERE b.starttime >= '2012-09-14'\n",
    "            AND b.starttime < '2012-09-15'\n",
    "            AND (\n",
    "            (\n",
    "            m.memid =0\n",
    "            AND b.slots * f.guestcost >30\n",
    "            )\n",
    "            OR (\n",
    "            m.memid !=0\n",
    "            AND b.slots * f.membercost >30\n",
    "            )\n",
    "            )\n",
    "            ORDER BY cost DESC"
   ]
  },
  {
   "cell_type": "markdown",
   "metadata": {},
   "source": [
    "/* Q9: This time, produce the same result as in Q8, but using a subquery. */\n",
    "\n",
    "            SELECT facility, member, cost\n",
    "            FROM (\n",
    "\n",
    "            SELECT m.surname AS member, f.name AS facility,\n",
    "            CASE WHEN m.memid =0\n",
    "            THEN b.slots * f.guestcost\n",
    "            ELSE b.slots * f.membercost\n",
    "            END AS cost\n",
    "            FROM Members AS m\n",
    "            INNER JOIN Bookings AS b\n",
    "            USING ( memid )\n",
    "            INNER JOIN Facilities AS f\n",
    "            USING ( facid )\n",
    "            WHERE b.starttime >= '2012-09-14'\n",
    "            AND b.starttime < '2012-09-15'\n",
    "            ) AS booking\n",
    "            WHERE cost >30\n",
    "            ORDER BY cost DESC"
   ]
  },
  {
   "cell_type": "markdown",
   "metadata": {},
   "source": [
    "Part 2 : SQLite"
   ]
  },
  {
   "cell_type": "code",
   "execution_count": 2,
   "metadata": {},
   "outputs": [],
   "source": [
    "import sqlite3\n",
    "from sqlite3 import Error\n",
    "import os.path"
   ]
  },
  {
   "cell_type": "code",
   "execution_count": 3,
   "metadata": {},
   "outputs": [
    {
     "data": {
      "text/plain": [
       "'/Users/regan/Documents/SQLFiles Tier 1'"
      ]
     },
     "execution_count": 3,
     "metadata": {},
     "output_type": "execute_result"
    }
   ],
   "source": [
    "os.getcwd()"
   ]
  },
  {
   "cell_type": "code",
   "execution_count": 4,
   "metadata": {},
   "outputs": [],
   "source": [
    "def create_connection(db_file):\n",
    "    \"\"\" create a database connection to the SQLite database\n",
    "        specified by the db_file\n",
    "    :param db_file: database file\n",
    "    :return: Connection object or None\n",
    "    \"\"\"\n",
    "    conn = None\n",
    "    try:\n",
    "        conn = sqlite3.connect(db_file)\n",
    "        print(sqlite3.version)\n",
    "    except Error as e:\n",
    "        print(e)\n",
    "    \n",
    "    return conn\n"
   ]
  },
  {
   "cell_type": "code",
   "execution_count": 5,
   "metadata": {},
   "outputs": [],
   "source": [
    "def select_all_tasks(conn):\n",
    "    \"\"\"\n",
    "    Query all rows in the tasks table\n",
    "    :param conn: the Connection object\n",
    "    :return:\n",
    "    \"\"\"\n",
    "    cur = conn.cursor()\n",
    "    \n",
    "    query1 = \"\"\"\n",
    "        SELECT *\n",
    "        FROM Facilities\"\"\"\n",
    "    cur.execute(query1)\n",
    " \n",
    "    rows = cur.fetchall()\n",
    " \n",
    "    for row in rows:\n",
    "        print(row)\n",
    "    return \n",
    "\n",
    "\n"
   ]
  },
  {
   "cell_type": "code",
   "execution_count": 8,
   "metadata": {},
   "outputs": [],
   "source": [
    "def select_all_tasks(conn):\n",
    "    \"\"\"\n",
    "    Query all rows in the tasks table\n",
    "    :param conn: the Connection object\n",
    "    :return:\n",
    "    \"\"\"\n",
    "    cur = conn.cursor()\n",
    "    \n",
    "    query1 = \"\"\"\n",
    "        SELECT name as FacilityName, totalrev as Revenue\n",
    "FROM (\n",
    "    SELECT f.name, SUM(\n",
    "        CASE\n",
    "        WHEN memid =0\n",
    "        THEN b.slots * f.guestcost\n",
    "        ELSE b.slots * f.membercost END ) AS totalrev\n",
    "    FROM Bookings AS b\n",
    "    INNER JOIN Facilities AS f ON b.facid = f.facid\n",
    "    GROUP BY f.facid) AS revenue\n",
    "WHERE totalrev < 1000\n",
    "ORDER BY totalrev DESC\"\"\"\n",
    "    cur.execute(query1)\n",
    " \n",
    "    rows = cur.fetchall()\n",
    " \n",
    "    for row in rows:\n",
    "        print(row)\n",
    "    return \n",
    "\n"
   ]
  },
  {
   "cell_type": "code",
   "execution_count": 9,
   "metadata": {},
   "outputs": [],
   "source": [
    "def main():\n",
    "    database = \"sqlite_db_pythonsqlite.db\"\n",
    " #changed the above line to _db_##\n",
    "    # create a database connection\n",
    "    conn = create_connection(database)\n",
    "    with conn: \n",
    "        print(\"2. Query all tasks\")\n",
    "        select_all_tasks(conn)\n",
    "    return"
   ]
  },
  {
   "cell_type": "code",
   "execution_count": 10,
   "metadata": {},
   "outputs": [
    {
     "name": "stdout",
     "output_type": "stream",
     "text": [
      "2.6.0\n",
      "2. Query all tasks\n",
      "('Pool Table', 270)\n",
      "('Snooker Table', 240)\n",
      "('Table Tennis', 180)\n"
     ]
    }
   ],
   "source": [
    "if __name__ == '__main__':\n",
    "    main()"
   ]
  },
  {
   "cell_type": "markdown",
   "metadata": {},
   "source": [
    "/* Q11: Produce a report of members and who recommended them in alphabetic surname,firstname order */"
   ]
  },
  {
   "cell_type": "code",
   "execution_count": 18,
   "metadata": {},
   "outputs": [
    {
     "name": "stdout",
     "output_type": "stream",
     "text": [
      "2.6.0\n",
      "2. Query all tasks\n",
      "('Bader', 'Florence', '9', 'Stibbons', 'Ponder')\n",
      "('Baker', 'Anne', '9', 'Stibbons', 'Ponder')\n",
      "('Baker', 'Timothy', '13', 'Farrell', 'Jemima')\n",
      "('Boothe', 'Tim', '3', 'Rownam', 'Tim')\n",
      "('Butters', 'Gerald', '1', 'Smith', 'Darren')\n",
      "('Coplin', 'Joan', '16', 'Baker', 'Timothy')\n",
      "('Crumpet', 'Erica', '2', 'Smith', 'Tracy')\n",
      "('Dare', 'Nancy', '4', 'Joplette', 'Janice')\n",
      "('Genting', 'Matthew', '5', 'Butters', 'Gerald')\n",
      "('Hunt', 'John', '30', 'Purview', 'Millicent')\n",
      "('Jones', 'David', '4', 'Joplette', 'Janice')\n",
      "('Jones', 'Douglas', '11', 'Jones', 'David')\n",
      "('Joplette', 'Janice', '1', 'Smith', 'Darren')\n",
      "('Mackenzie', 'Anna', '1', 'Smith', 'Darren')\n",
      "('Owen', 'Charles', '1', 'Smith', 'Darren')\n",
      "('Pinker', 'David', '13', 'Farrell', 'Jemima')\n",
      "('Purview', 'Millicent', '2', 'Smith', 'Tracy')\n",
      "('Rumney', 'Henrietta', '20', 'Genting', 'Matthew')\n",
      "('Sarwin', 'Ramnaresh', '15', 'Bader', 'Florence')\n",
      "('Smith', 'Jack', '1', 'Smith', 'Darren')\n",
      "('Stibbons', 'Ponder', '6', 'Tracy', 'Burton')\n",
      "('Worthington-Smyth', 'Henry', '2', 'Smith', 'Tracy')\n"
     ]
    }
   ],
   "source": [
    "def select_all_tasks(conn):\n",
    "    \"\"\"\n",
    "    Query all rows in the tasks table\n",
    "    :param conn: the Connection object\n",
    "    :return:\n",
    "    \"\"\"\n",
    "    cur = conn.cursor()\n",
    "    \n",
    "    query1 = \"\"\"\n",
    "        SELECT Mem.surname, Mem.firstname, Mem.recommendedby, RecSurname, RecFirstName\n",
    "        FROM Members AS Mem\n",
    "        INNER JOIN (\n",
    "            SELECT m1.surname AS RecSurname, m1.firstname AS RecFirstName, m1.recommendedby, m1.memid\n",
    "            FROM Members AS m1\n",
    "            INNER JOIN Members AS m2\n",
    "            USING ( memid )\n",
    "            ) AS rec \n",
    "        ON Mem.recommendedby = rec.memid\n",
    "        ORDER BY Mem.surname, Mem.firstname\"\"\"\n",
    "    cur.execute(query1)\n",
    " \n",
    "    rows = cur.fetchall()\n",
    " \n",
    "    for row in rows:\n",
    "        print(row)\n",
    "    return \n",
    "def main():\n",
    "    database = \"sqlite_db_pythonsqlite.db\"\n",
    " #changed the above line to _db_##\n",
    "    # create a database connection\n",
    "    conn = create_connection(database)\n",
    "    with conn: \n",
    "        print(\"2. Query all tasks\")\n",
    "        select_all_tasks(conn)\n",
    "    return\n",
    "if __name__ == '__main__':\n",
    "    main()"
   ]
  },
  {
   "cell_type": "markdown",
   "metadata": {},
   "source": [
    "this is the query I ran in PHP. \"concat\" threw an error for some reason\n",
    "\n",
    "SELECT Mem.surname, Mem.firstname, Mem.recommendedby, RecommendedByName<br>\n",
    "FROM Members AS Mem<br>\n",
    "INNER JOIN (<br>\n",
    "    SELECT CONCAT( m1.surname, ' ', m1.firstname ) AS RecommendedByName, m1.firstname, m1.recommendedby, m1.memid<br>\n",
    "    FROM Members AS m1<br>\n",
    "    INNER JOIN Members AS m2<br>\n",
    "    USING ( memid )<br>\n",
    "    ) AS rec <br>\n",
    "    ON Mem.recommendedby = rec.memid <br>\n",
    "ORDER BY surname, firstname <br>"
   ]
  },
  {
   "cell_type": "markdown",
   "metadata": {},
   "source": [
    "/* Q12: Find the facilities with their usage by member, but not guests */\n",
    "\n",
    "I interpretted this two ways:<br>\n",
    "1) total usage by members, and (code in query) <br>\n",
    "2) usage of each facility by each member (code in box below query) <br>"
   ]
  },
  {
   "cell_type": "code",
   "execution_count": 19,
   "metadata": {},
   "outputs": [
    {
     "name": "stdout",
     "output_type": "stream",
     "text": [
      "2.6.0\n",
      "2. Query all tasks\n",
      "(344, 'Badminton Court')\n",
      "(421, 'Massage Room 1')\n",
      "(27, 'Massage Room 2')\n",
      "(783, 'Pool Table')\n",
      "(421, 'Snooker Table')\n",
      "(195, 'Squash Court')\n",
      "(385, 'Table Tennis')\n",
      "(308, 'Tennis Court 1')\n",
      "(276, 'Tennis Court 2')\n"
     ]
    }
   ],
   "source": [
    "def select_all_tasks(conn):\n",
    "    \"\"\"\n",
    "    Query all rows in the tasks table\n",
    "    :param conn: the Connection object\n",
    "    :return:\n",
    "    \"\"\"\n",
    "    cur = conn.cursor()\n",
    "    \n",
    "    query1 = \"\"\"\n",
    "       SELECT COUNT( b.bookid ) AS Memberbookings, f.name\n",
    "FROM Bookings AS b\n",
    "INNER JOIN Facilities AS f\n",
    "USING ( facid )\n",
    "WHERE memid !=0\n",
    "GROUP BY f.name\"\"\"\n",
    "    cur.execute(query1)\n",
    " \n",
    "    rows = cur.fetchall()\n",
    " \n",
    "    for row in rows:\n",
    "        print(row)\n",
    "    return \n",
    "def main():\n",
    "    database = \"sqlite_db_pythonsqlite.db\"\n",
    " #changed the above line to _db_##\n",
    "    # create a database connection\n",
    "    conn = create_connection(database)\n",
    "    with conn: \n",
    "        print(\"2. Query all tasks\")\n",
    "        select_all_tasks(conn)\n",
    "    return\n",
    "if __name__ == '__main__':\n",
    "    main()"
   ]
  },
  {
   "cell_type": "markdown",
   "metadata": {},
   "source": [
    "Code for bookings by facility and individual member: <br>\n",
    "SELECT COUNT( b.bookid ) AS totalbookings, b.memid, b.facid, f.name<br>\n",
    "FROM Bookings AS b<br>\n",
    "INNER JOIN Facilities AS f<br>\n",
    "USING ( facid )<br>\n",
    "WHERE memid !=0<br>\n",
    "GROUP BY f.name, b.memid<br>\n"
   ]
  },
  {
   "cell_type": "markdown",
   "metadata": {},
   "source": [
    "/* Q13: Find the facilities usage by month, but not guests */"
   ]
  },
  {
   "cell_type": "code",
   "execution_count": 22,
   "metadata": {},
   "outputs": [
    {
     "name": "stdout",
     "output_type": "stream",
     "text": [
      "2.6.0\n",
      "2. Query all tasks\n",
      "(480, 'Table Tennis', '07')\n",
      "(1168, 'Tennis Court 1', '08')\n",
      "(1512, 'Tennis Court 1', '09')\n"
     ]
    }
   ],
   "source": [
    "def select_all_tasks(conn):\n",
    "    \"\"\"\n",
    "    Query all rows in the tasks table\n",
    "    :param conn: the Connection object\n",
    "    :return:\n",
    "    \"\"\"\n",
    "    cur = conn.cursor()\n",
    "    \n",
    "    query1 = \"\"\"\n",
    "       SELECT COUNT( b.bookid ) AS Memberbookings, f.name, strftime('%m', starttime) as Month \n",
    "FROM Bookings AS b\n",
    "INNER JOIN Facilities AS f\n",
    "USING ( facid )\n",
    "WHERE memid !=0\n",
    "GROUP BY Month\"\"\"\n",
    "    cur.execute(query1)\n",
    " \n",
    "    rows = cur.fetchall()\n",
    " \n",
    "    for row in rows:\n",
    "        print(row)\n",
    "    return \n",
    "def main():\n",
    "    database = \"sqlite_db_pythonsqlite.db\"\n",
    " #changed the above line to _db_##\n",
    "    # create a database connection\n",
    "    conn = create_connection(database)\n",
    "    with conn: \n",
    "        print(\"2. Query all tasks\")\n",
    "        select_all_tasks(conn)\n",
    "    return\n",
    "if __name__ == '__main__':\n",
    "    main()"
   ]
  },
  {
   "cell_type": "code",
   "execution_count": null,
   "metadata": {},
   "outputs": [],
   "source": []
  }
 ],
 "metadata": {
  "kernelspec": {
   "display_name": "Python 3",
   "language": "python",
   "name": "python3"
  },
  "language_info": {
   "codemirror_mode": {
    "name": "ipython",
    "version": 3
   },
   "file_extension": ".py",
   "mimetype": "text/x-python",
   "name": "python",
   "nbconvert_exporter": "python",
   "pygments_lexer": "ipython3",
   "version": "3.7.6"
  }
 },
 "nbformat": 4,
 "nbformat_minor": 4
}
